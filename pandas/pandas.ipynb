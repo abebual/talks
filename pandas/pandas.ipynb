{
 "cells": [
  {
   "cell_type": "markdown",
   "metadata": {
    "slideshow": {
     "slide_type": "slide"
    }
   },
   "source": [
    "# pandas - a Pythonic interface"
   ]
  },
  {
   "cell_type": "markdown",
   "metadata": {
    "slideshow": {
     "slide_type": "fragment"
    }
   },
   "source": [
    "The pandas library is a key tool for data analysis in Python. It implements ideas from various other worlds (R, Excel, SQL) and bundles them in a very Pythonic interface. What does this mean? In this talk, you will see an example how pandas allows to analyze a dataset that contains a few surprises efficiently. \n",
    "\n",
    "The talk presents an analysis of baby names from the last 130 years, an example adopted from Wes McKinneys book \"Python for Data Analysis\". We will discuss pros and cons of approach used for the pandas API."
   ]
  },
  {
   "cell_type": "code",
   "execution_count": 2,
   "metadata": {
    "collapsed": true,
    "slideshow": {
     "slide_type": "slide"
    }
   },
   "outputs": [],
   "source": [
    "import pandas as pd\n",
    "import os\n",
    "\n",
    "names = []\n",
    "PATH = 'names/'"
   ]
  },
  {
   "cell_type": "code",
   "execution_count": 11,
   "metadata": {
    "collapsed": false,
    "slideshow": {
     "slide_type": "slide"
    }
   },
   "outputs": [
    {
     "name": "stdout",
     "output_type": "stream",
     "text": [
      "yob1880.txt, yob1881.txt, yob1882.txt, yob1883.txt, yob1884.txt, yob1885.txt, yob1886.txt, yob1887.txt, yob1888.txt, yob1889.txt, yob1890.txt, yob1891.txt, yob1892.txt, yob1893.txt, yob1894.txt, yob1895.txt, yob1896.txt, yob1897.txt, yob1898.txt, yob1899.txt, yob1900.txt, yob1901.txt, yob1902.txt, yob1903.txt, yob1904.txt, yob1905.txt, yob1906.txt, yob1907.txt, yob1908.txt, yob1909.txt, yob1910.txt, yob1911.txt, yob1912.txt, yob1913.txt, yob1914.txt, yob1915.txt, yob1916.txt, yob1917.txt, yob1918.txt, yob1919.txt, yob1920.txt, yob1921.txt, yob1922.txt, yob1923.txt, yob1924.txt, yob1925.txt, yob1926.txt, yob1927.txt, yob1928.txt, yob1929.txt, yob1930.txt, yob1931.txt, yob1932.txt, yob1933.txt, yob1934.txt, yob1935.txt, yob1936.txt, yob1937.txt, yob1938.txt, yob1939.txt, yob1940.txt, yob1941.txt, yob1942.txt, yob1943.txt, yob1944.txt, yob1945.txt, yob1946.txt, yob1947.txt, yob1948.txt, yob1949.txt, yob1950.txt, yob1951.txt, yob1952.txt, yob1953.txt, yob1954.txt, yob1955.txt, yob1956.txt, yob1957.txt, yob1958.txt, yob1959.txt, yob1960.txt, yob1961.txt, yob1962.txt, yob1963.txt, yob1964.txt, yob1965.txt, yob1966.txt, yob1967.txt, yob1968.txt, yob1969.txt, yob1970.txt, yob1971.txt, yob1972.txt, yob1973.txt, yob1974.txt, yob1975.txt, yob1976.txt, yob1977.txt, yob1978.txt, yob1979.txt, yob1980.txt, yob1981.txt, yob1982.txt, yob1983.txt, yob1984.txt, yob1985.txt, yob1986.txt, yob1987.txt, yob1988.txt, yob1989.txt, yob1990.txt, yob1991.txt, yob1992.txt, yob1993.txt, yob1994.txt, yob1995.txt, yob1996.txt, yob1997.txt, yob1998.txt, yob1999.txt, yob2000.txt, yob2001.txt, yob2002.txt, yob2003.txt, yob2004.txt, yob2005.txt, yob2006.txt, yob2007.txt, yob2008.txt, yob2009.txt, yob2010.txt, yob2011.txt, yob2012.txt, yob2013.txt, yob2014.txt, "
     ]
    }
   ],
   "source": [
    "for fn in sorted(os.listdir(PATH)):\n",
    "    if not fn.endswith('.txt'): continue\n",
    "    print(fn, end=\", \")\n",
    "    df = pd.read_csv(PATH + fn, names=['name', 'gender', 'count'])\n",
    "    df['year'] = int(fn[-8:-4])\n",
    "    names.append(df)"
   ]
  },
  {
   "cell_type": "code",
   "execution_count": 4,
   "metadata": {
    "collapsed": true,
    "slideshow": {
     "slide_type": "slide"
    }
   },
   "outputs": [],
   "source": [
    "# make a single DataFrame from a list of DataFrames\n",
    "names = pd.concat(names)"
   ]
  },
  {
   "cell_type": "code",
   "execution_count": 5,
   "metadata": {
    "collapsed": true,
    "slideshow": {
     "slide_type": "slide"
    }
   },
   "outputs": [],
   "source": [
    "def first_letter(x): return x[0]\n",
    "names['first'] = names['name'].apply(first_letter)"
   ]
  },
  {
   "cell_type": "code",
   "execution_count": 6,
   "metadata": {
    "collapsed": true,
    "slideshow": {
     "slide_type": "slide"
    }
   },
   "outputs": [],
   "source": [
    "# separate boys and girls lists\n",
    "boys = names[names.gender=='M']\n",
    "girls = names[names.gender=='F']"
   ]
  },
  {
   "cell_type": "code",
   "execution_count": 7,
   "metadata": {
    "collapsed": false,
    "slideshow": {
     "slide_type": "slide"
    }
   },
   "outputs": [
    {
     "name": "stdout",
     "output_type": "stream",
     "text": [
      "         name gender  count  year first\n",
      "26878  Tyrion      M      5  1997     T\n",
      "27802  Tyrion      M      5  1998     T\n",
      "24773  Tyrion      M      8  1999     T\n",
      "23935  Tyrion      M     11  2000     T\n",
      "24865  Tyrion      M     10  2001     T\n",
      "23454  Tyrion      M     14  2002     T\n",
      "23952  Tyrion      M     14  2003     T\n",
      "24284  Tyrion      M     15  2004     T\n",
      "25025  Tyrion      M     14  2005     T\n",
      "26915  Tyrion      M     12  2006     T\n",
      "26784  Tyrion      M     14  2007     T\n",
      "26169  Tyrion      M     16  2008     T\n",
      "25692  Tyrion      M     17  2009     T\n",
      "27337  Tyrion      M     11  2010     T\n",
      "24706  Tyrion      M     18  2011     T\n",
      "24301  Tyrion      M     20  2012     T\n",
      "21938  Tyrion      M     43  2013     T\n",
      "21307  Tyrion      M     60  2014     T\n"
     ]
    },
    {
     "name": "stderr",
     "output_type": "stream",
     "text": [
      "/home/krother/.virtualenvs/talks/lib/python3.4/site-packages/ipykernel/__main__.py:3: FutureWarning: sort(columns=....) is deprecated, use sort_values(by=.....)\n",
      "  app.launch_new_instance()\n"
     ]
    }
   ],
   "source": [
    "# statistics on single names\n",
    "def findname(df, name): \n",
    "    return df[df['name']==name].sort('year')\n",
    "print(findname(boys, \"Tyrion\"))\n"
   ]
  },
  {
   "cell_type": "code",
   "execution_count": 8,
   "metadata": {
    "collapsed": false,
    "slideshow": {
     "slide_type": "slide"
    }
   },
   "outputs": [
    {
     "name": "stdout",
     "output_type": "stream",
     "text": [
      "year\n",
      "1880     201484\n",
      "1881     192699\n",
      "1882     221538\n",
      "1883     216950\n",
      "1884     243467\n",
      "1885     240855\n",
      "1886     255319\n",
      "1887     247396\n",
      "1888     299480\n",
      "1889     288950\n",
      "1890     301402\n",
      "1891     286678\n",
      "1892     334383\n",
      "1893     325223\n",
      "1894     338694\n",
      "1895     351028\n",
      "1896     357490\n",
      "1897     346960\n",
      "1898     381463\n",
      "1899     339235\n",
      "1900     450327\n",
      "1901     345819\n",
      "1902     386736\n",
      "1903     381207\n",
      "1904     403496\n",
      "1905     423948\n",
      "1906     428462\n",
      "1907     465399\n",
      "1908     488657\n",
      "1909     511227\n",
      "         ...   \n",
      "1985    3567068\n",
      "1986    3554828\n",
      "1987    3603553\n",
      "1988    3692441\n",
      "1989    3843104\n",
      "1990    3950252\n",
      "1991    3893897\n",
      "1992    3839692\n",
      "1993    3768776\n",
      "1994    3716231\n",
      "1995    3660759\n",
      "1996    3645627\n",
      "1997    3623928\n",
      "1998    3676165\n",
      "1999    3691441\n",
      "2000    3777007\n",
      "2001    3740300\n",
      "2002    3735021\n",
      "2003    3798793\n",
      "2004    3816939\n",
      "2005    3840220\n",
      "2006    3950840\n",
      "2007    3991547\n",
      "2008    3923523\n",
      "2009    3812228\n",
      "2010    3686589\n",
      "2011    3646730\n",
      "2012    3643336\n",
      "2013    3626802\n",
      "2014    3670151\n",
      "Name: count, dtype: int64\n"
     ]
    }
   ],
   "source": [
    "# total population\n",
    "g = names.groupby('year')\n",
    "print(g['count'].apply(sum))"
   ]
  },
  {
   "cell_type": "code",
   "execution_count": 9,
   "metadata": {
    "collapsed": false,
    "slideshow": {
     "slide_type": "slide"
    }
   },
   "outputs": [
    {
     "name": "stdout",
     "output_type": "stream",
     "text": [
      "first\n",
      "A    0.697584\n",
      "B    0.936245\n",
      "C    0.992701\n",
      "D    1.468989\n",
      "E    0.738231\n",
      "F    1.468220\n",
      "G    1.617667\n",
      "H    0.945726\n",
      "I    0.675881\n",
      "J    1.963427\n",
      "K    0.513197\n",
      "L    0.534895\n",
      "M    0.637303\n",
      "N    0.767757\n",
      "O    1.154744\n",
      "P    0.834689\n",
      "Q    2.624689\n",
      "R    2.283204\n",
      "S    0.558435\n",
      "T    1.402623\n",
      "U    1.802693\n",
      "V    0.333219\n",
      "W    5.725206\n",
      "X    3.381456\n",
      "Y    0.229861\n",
      "Z    1.873438\n",
      "Name: count, dtype: float64\n"
     ]
    }
   ],
   "source": [
    "# first letter statistics\n",
    "mrc = boys.groupby('first')['count'].apply(sum)\n",
    "frc = girls.groupby('first')['count'].apply(sum)\n",
    "print(mrc / frc)"
   ]
  },
  {
   "cell_type": "code",
   "execution_count": 10,
   "metadata": {
    "collapsed": false,
    "slideshow": {
     "slide_type": "slide"
    }
   },
   "outputs": [
    {
     "name": "stdout",
     "output_type": "stream",
     "text": [
      "name\n",
      "Quinn      46282\n",
      "Quentin    38471\n",
      "Quinton    27448\n",
      "Quincy     26060\n",
      "Queen      14028\n",
      "Quintin    13881\n",
      "Quinten     6822\n",
      "Quiana      3931\n",
      "Queenie     3611\n",
      "Quenton     2971\n",
      "Name: count, dtype: int64\n"
     ]
    },
    {
     "name": "stderr",
     "output_type": "stream",
     "text": [
      "/home/krother/.virtualenvs/talks/lib/python3.4/site-packages/ipykernel/__main__.py:2: FutureWarning: sort is deprecated, use sort_values(inplace=True) for INPLACE sorting\n",
      "  from ipykernel import kernelapp as app\n"
     ]
    }
   ],
   "source": [
    "namesum = names[names['first'] == 'Q'].groupby('name')['count'].apply(sum)\n",
    "namesum.sort(ascending=False)\n",
    "print(namesum[:10])"
   ]
  },
  {
   "cell_type": "code",
   "execution_count": null,
   "metadata": {
    "collapsed": true
   },
   "outputs": [],
   "source": []
  }
 ],
 "metadata": {
  "celltoolbar": "Slideshow",
  "kernelspec": {
   "display_name": "Python 3",
   "language": "python",
   "name": "python3"
  },
  "language_info": {
   "codemirror_mode": {
    "name": "ipython",
    "version": 3
   },
   "file_extension": ".py",
   "mimetype": "text/x-python",
   "name": "python",
   "nbconvert_exporter": "python",
   "pygments_lexer": "ipython3",
   "version": "3.4.3"
  }
 },
 "nbformat": 4,
 "nbformat_minor": 1
}
